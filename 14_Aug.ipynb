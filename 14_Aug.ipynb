{
 "cells": [
  {
   "cell_type": "code",
   "execution_count": 3,
   "metadata": {},
   "outputs": [
    {
     "name": "stdout",
     "output_type": "stream",
     "text": [
      "10\n",
      "Hello\n"
     ]
    }
   ],
   "source": [
    "#class example1\n",
    "class Person:    \n",
    "    age = 10\n",
    "\n",
    "    def greet(self):\n",
    "        print('Hello')\n",
    "        \n",
    "alice=Person()\n",
    "\n",
    "print(alice.age)\n",
    "alice.greet()"
   ]
  },
  {
   "cell_type": "code",
   "execution_count": 19,
   "metadata": {},
   "outputs": [
    {
     "name": "stdout",
     "output_type": "stream",
     "text": [
      "Two numbers are 2 ,3\n"
     ]
    }
   ],
   "source": [
    "#class example2\n",
    "class Numb:\n",
    "    def __init__(self, a, b):\n",
    "        self.p = a\n",
    "        self.q = b        \n",
    "\n",
    "    def get_data(self):\n",
    "        print('Two numbers are {} ,{}'.format(self.p, self.q))\n",
    "\n",
    "\n",
    "# Create a new ComplexNumber object\n",
    "num1 = Numb(2, 3)\n",
    "\n",
    "num1.get_data()\n",
    "\n",
    "#del num1\n",
    "#num1.get_data()"
   ]
  },
  {
   "cell_type": "code",
   "execution_count": 22,
   "metadata": {},
   "outputs": [
    {
     "name": "stdout",
     "output_type": "stream",
     "text": [
      "XYZ PQRS\n"
     ]
    }
   ],
   "source": [
    "#Inheritance Example1\n",
    "\n",
    "#Parent class\n",
    "class Person:\n",
    "    def __init__(self, fname, lname):\n",
    "        self.firstname = fname\n",
    "        self.lastname = lname\n",
    "\n",
    "    def printname(self):\n",
    "        print(self.firstname, self.lastname)\n",
    "\n",
    "#x = Person(\"DEF\", \"ABC\")\n",
    "#x.printname()\n",
    "\n",
    "#Child class\n",
    "class Student(Person):\n",
    "    pass\n",
    "\n",
    "x = Student(\"XYZ\", \"PQRS\")\n",
    "x.printname()"
   ]
  },
  {
   "cell_type": "code",
   "execution_count": 30,
   "metadata": {},
   "outputs": [
    {
     "name": "stdout",
     "output_type": "stream",
     "text": [
      "Ford is giving good mileage.\n",
      "Maruti is one of the best cars in the market.\n"
     ]
    }
   ],
   "source": [
    "#super and inheritance example\n",
    "class Car():\n",
    "    def __init__(self, carname):\n",
    "        print(carname, 'is one of the best cars in the market.')\n",
    "    \n",
    "class Ford(Car):\n",
    "    def __init__(self):\n",
    "        print('Ford is giving good mileage.')\n",
    "        super().__init__('Maruti')\n",
    "    \n",
    "c2 = Ford()"
   ]
  },
  {
   "cell_type": "code",
   "execution_count": null,
   "metadata": {},
   "outputs": [],
   "source": []
  }
 ],
 "metadata": {
  "kernelspec": {
   "display_name": "Python 3",
   "language": "python",
   "name": "python3"
  },
  "language_info": {
   "codemirror_mode": {
    "name": "ipython",
    "version": 3
   },
   "file_extension": ".py",
   "mimetype": "text/x-python",
   "name": "python",
   "nbconvert_exporter": "python",
   "pygments_lexer": "ipython3",
   "version": "3.8.3"
  }
 },
 "nbformat": 4,
 "nbformat_minor": 4
}
